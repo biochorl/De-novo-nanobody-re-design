{
  "nbformat": 4,
  "nbformat_minor": 0,
  "metadata": {
    "colab": {
      "provenance": [],
      "collapsed_sections": [
        "3e8d4f1c",
        "5f6a7b8c",
        "c7b6a5d4",
        "0C0VsOSgUIqo"
      ]
    },
    "kernelspec": {
      "name": "python3",
      "display_name": "Python 3"
    },
    "language_info": {
      "name": "python"
    }
  },
  "cells": [
    {
      "cell_type": "markdown",
      "metadata": {
        "id": "cpu-instruction"
      },
      "source": [
        "# **IMPORTANT**: Set the runtime to CPU-only\n",
        "\n",
        "This notebook is designed to run on a CPU-only runtime. The following cell will check for a GPU and raise an error if one is detected."
      ]
    },
    {
      "cell_type": "code",
      "metadata": {
        "id": "cpu-check"
      },
      "source": [
        "import shutil\n",
        "if shutil.which('nvidia-smi'):\n",
        "    raise Exception("GPU detected. This notebook is designed to run on a CPU-only runtime. Please change the runtime type to 'None' for the hardware accelerator (Runtime -> Change runtime type -> Hardware accelerator -> None).")\n",
        "else:\n",
        "    print('CPU runtime confirmed.')"
      ],
      "execution_count": null,
      "outputs": []
    },
    {
      "cell_type": "markdown",
      "metadata": {
        "id": "a1b2c3d4"
      },
      "source": [
        "# **Quilt**: identification of hydrophobic patches on the PDB structure surface of the target protein of interest. Based on the content of [this](https://github.com/plijnzaad/quilt) GitHub repo"
      ]
    },
    {
      "cell_type": "markdown",
      "metadata": {
        "id": "3e8d4f1c"
      },
      "source": [
        "## Quilt Execution"
      ]
    },
    {
      "cell_type": "code",
      "metadata": {
        "id": "1b2c3d4e",
        "colab": {
          "base_uri": "https://localhost:8080/"
        },
        "outputId": "3e77b564-6b39-4c0c-91d6-f11f1daf8b6c"
      },
      "source": [
        "!git clone https://github.com/plijnzaad/quilt.git\n",
        "%cd quilt\n",
        "!source setup.sh.example && make && make test && make install"
      ],
      "execution_count": null,
      "outputs": [
        {
          "output_type": "stream",
          "name": "stdout",
          "text": [
            "fatal: destination path 'quilt' already exists and is not an empty directory.\n",
            "/content/quilt\n",
            "(cd src; make)\n",
            "make[1]: Entering directory '/content/quilt/src'\n",
            "(cd ../utils\t\t\t; make utils)\n",
            "make[2]: Entering directory '/content/quilt/utils'\n",
            "make[2]: Nothing to be done for 'utils'.\n",
            "make[2]: Leaving directory '/content/quilt/utils'\n",
            "gcc -o quilt main.o acc.o templates.o io.o misc.o top.o conn.o stitch.o seam.o surf.o randomize.o\t\t -L../utils\t\t\t -lutils\t\t\t -lm\n",
            "make[1]: Leaving directory '/content/quilt/src'\n",
            "(cd utils; make utils) || true;\t#may have been installed elsewhere\n",
            "make[1]: Entering directory '/content/quilt/utils'\n",
            "make[1]: Nothing to be done for 'utils'.\n",
            "make[1]: Leaving directory '/content/quilt/utils'\n",
            "(env PDBPATH=examples ./src/quilt -n 252 -ep 1.4 -R  -p 8lyz.pdb > 8lyz-test.pat 2> 8lyz-test.log; if diff -q 8lyz-test.pat examples/8lyz.pat ; then echo \"test OK\"; exit 0; else echo \"test not OK: 8lyz-test.pat and examples/8lyz.pat differ\"; exit 9; fi)\n",
            "test OK\n",
            "(cd src; make install)\n",
            "make[1]: Entering directory '/content/quilt/src'\n",
            "(cd ../utils\t\t\t; make utils)\n",
            "make[2]: Entering directory '/content/quilt/utils'\n",
            "make[2]: Nothing to be done for 'utils'.\n",
            "make[2]: Leaving directory '/content/quilt/utils'\n",
            "gcc -o quilt main.o acc.o templates.o io.o misc.o top.o conn.o stitch.o seam.o surf.o randomize.o\t\t -L../utils\t\t\t -lutils\t\t\t -lm\n",
            "install quilt /root/tmp/asdf/bin\n",
            "make[1]: Leaving directory '/content/quilt/src'\n",
            "cp -p scripts/* /root/tmp/asdf/bin\n"
          ]
        }
      ]
    },
    {
      "cell_type": "markdown",
      "metadata": {
        "id": "5f6a7b8c"
      },
      "source": [
        "## Execute Quilt"
      ]
    },
    {
      "cell_type": "code",
      "metadata": {
        "id": "9d8e7f6a"
      },
      "source": [
        "from google.colab import files\n",
        "import os\n",
        "\n",
        "uploaded = files.upload()\n",
        "\n",
        "if not uploaded:\n",
        "  print('No file uploaded.')\n",
        "else:\n",
        "  input_pdb = list(uploaded.keys())[0]\n",
        "  pdb_content = uploaded[input_pdb].decode('utf-8')\n",
        "  print(f'Using {input_pdb} as input.')\n",
        "  os.environ['PDBPATH'] = os.getcwd()\n",
        "  quilt_output = !./src/quilt -n 252 -ep 1.4 -R -p {input_pdb} -a {input_pdb}.area"
      ],
      "execution_count": null,
      "outputs": []
    },
    {
      "cell_type": "markdown",
      "metadata": {
        "id": "c7b6a5d4"
      },
      "source": [
        "## 3. Visualize Patches"
      ]
    },
    {
      "cell_type": "code",
      "metadata": {
        "id": "b5a4c3d2"
      },
      "source": [
        "!pip install py3Dmol\n",
        "import py3Dmol\n",
        "import re\n",
        "from ipywidgets import interact, Dropdown\n",
        "\n",
        "def parse_quilt_output(output):\n",
        "    patches = {0: [], 1: [], 2: []}\n",
        "    patch_residues_text = {0: '', 1: '', 2: ''}\n",
        "    capture = False\n",
        "    current_patch = -1\n",
        "    for line in output:\n",
        "        if line.startswith('# 0') or line.startswith('# 1') or line.startswith('# 2'):\n",
        "            match = re.match(r'# (\d+)', line)\n",
        "            if match:\n",
        "                current_patch = int(match.group(1))\n",
        "                if current_patch in patches:\n",
        "                    capture = True\n",
        "                else:\n",
        "                    capture = False\n",
        "            else:\n",
        "                capture = False\n",
        "        elif capture and line.startswith('#'):\n",
        "             capture = False\n",
        "             current_patch = -1\n",
        "        elif capture:\n",
        "            res_matches = re.findall(r'([A-Z]) ([A-Z])(\d+) @', line)\n",
        "            for res_name, chain, res_id in res_matches:\n",
        "                if int(res_id) not in patches[current_patch]:\n",
        "                    patches[current_patch].append(int(res_id))\n",
        "                    patch_residues_text[current_patch] += f'{res_name}{res_id}, '\n",
        "    return patches, patch_residues_text\n",
        "\n",
        "if 'quilt_output' in locals():\n",
        "    patches, patch_residues_text = parse_quilt_output(quilt_output)\n",
        "    with open('Patches.txt', 'w') as f:\n",
        "        for i in range(3):\n",
        "            text = patch_residues_text[i].strip()\n",
        "            if text:\n",
        "                line = f'Patch {i} residues: {text[:-1]}'\n",
        "                print(line)\n",
        "                f.write(line + '\n')\n",
        "            else:\n",
        "                line = f'Patch {i} residues: None'\n",
        "                print(line)\n",
        "                f.write(line + '\n')\n",
        "\n",
        "    view = py3Dmol.view(width=800, height=600)\n",
        "    view.addModel(pdb_content, 'pdb')\n",
        "    view.setStyle({'cartoon': {'color': 'spectrum'}})\n",
        "\n",
        "    def highlight_patch(patch_num):\n",
        "        view.removeAllSurfaces()\n",
        "        view.addSurface(py3Dmol.SAS, {'opacity': 0.7, 'color': 'green'})\n",
        "        if patch_num != 'None':\n",
        "            res_ids = patches[int(patch_num)]\n",
        "            view.addSurface(py3Dmol.SAS, {'opacity': 1.0, 'color': 'yellow'}, {'resi': res_ids})\n",
        "        view.zoomTo()\n",
        "        view.show()\n",
        "\n",
        "    view.addSurface(py3Dmol.SAS, {'opacity': 0.7, 'color': 'green'})\n",
        "    view.zoomTo()\n",
        "\n",
        "    patch_selector = Dropdown(options=['None', '0', '1', '2'], description='Select Patch:')\n",
        "    interact(highlight_patch, patch_num=patch_selector)\n",
        "   # view.show()\n",
        "else:\n",
        "    print('Please run the previous cell to generate quilt output first.')"
      ],
      "execution_count": null,
      "outputs": []
    },
    {
      "cell_type": "markdown",
      "source": [
        "--------------------\n",
        "# **Nanocdr-x**: identification of CDRs on the PDB structure of the nanobody scaffold. Based on the content of [this](https://github.com/lescailab/nanocdr-x) GitHub repo"
      ],
      "metadata": {
        "id": "JjA5d3XETkvJ"
      }
    },
    {
      "cell_type": "markdown",
      "source": [
        "## 4. Map Nanobody CDRs"
      ],
      "metadata": {
        "id": "0C0VsOSgUIqo"
      }
    },
    {
      "cell_type": "code",
      "source": [
        "!pip install -q condacolab\n",
        "import condacolab\n",
        "condacolab.install()\n",
        "\n",
        "!conda install -c lescailab nanocdr-x -y\n",
        "\n",
        "import pandas as pd\n",
        "from google.colab import files\n",
        "import os\n",
        "\n",
        "# Dictionary to convert three-letter amino acid code to one-letter\n",
        "three_to_one = {'ALA': 'A', 'CYS': 'C', 'ASP': 'D', 'GLU': 'E', 'PHE': 'F',\n",
        "                'GLY': 'G', 'HIS': 'H', 'ILE': 'I', 'LYS': 'K', 'LEU': 'L',\n",
        "                'MET': 'M', 'ASN': 'N', 'PRO': 'P', 'GLN': 'Q', 'ARG': 'R',\n",
        "                'SER': 'S', 'THR': 'T', 'VAL': 'V', 'TRP': 'W', 'TYR': 'Y'}\n",
        "\n",
        "def get_sequence_from_pdb(pdb_string):\n",
        "    sequence = []\n",
        "    residue_info = []\n",
        "    seen_residues = set()\n",
        "    for line in pdb_string.splitlines():\n",
        "        if line.startswith('ATOM') and line[13:15].strip() == 'CA': # Only alpha carbons\n",
        "            res_id = int(line[22:26])\n",
        "            res_name = line[17:20]\n",
        "            if res_id not in seen_residues:\n",
        "                seen_residues.add(res_id)\n",
        "                if res_name in three_to_one:\n",
        "                    sequence.append(three_to_one[res_name])\n",
        "                    residue_info.append((res_id, three_to_one[res_name]))\n",
        "    return \"\".join(sequence), residue_info\n",
        "\n",
        "print('Please upload the nanobody PDB file.')\n",
        "uploaded_nb = files.upload()\n",
        "\n",
        "if not uploaded_nb:\n",
        "    print('No nanobody file uploaded.')\n",
        "else:\n",
        "    nanobody_pdb_name = list(uploaded_nb.keys())[0]\n",
        "    nanobody_pdb_content = uploaded_nb[nanobody_pdb_name].decode('utf-8')\n",
        "    full_sequence, residue_map = get_sequence_from_pdb(nanobody_pdb_content)\n",
        "\n",
        "    # Create input CSV for nanocdr-x\n",
        "    input_df = pd.DataFrame([{'identifier': nanobody_pdb_name, 'input': full_sequence}])\n",
        "    input_csv_path = 'nanobody_input.csv'\n",
        "    output_csv_path = 'nanobody_cdrs.csv'\n",
        "    input_df.to_csv(input_csv_path, index=False)\n",
        "\n",
        "    # Run nanocdr-x\n",
        "    !predict_cdrs -i {input_csv_path} -o {output_csv_path}\n",
        "\n",
        "    # Parse the output and map CDRs\n",
        "    if os.path.exists(output_csv_path):\n",
        "        results_df = pd.read_csv(output_csv_path)\n",
        "        all_cdr_res_ids = {}\n",
        "        for i in range(1, 4):\n",
        "            cdr_seq = results_df[f'predicted_cdr{i}'][0]\n",
        "            if pd.notna(cdr_seq):\n",
        "                start_index = full_sequence.find(cdr_seq)\n",
        "                if start_index != -1:\n",
        "                    cdr_residues = []\n",
        "                    cdr_res_ids = []\n",
        "                    for j in range(len(cdr_seq)):\n",
        "                        res_id, res_name = residue_map[start_index + j]\n",
        "                        cdr_residues.append(f'{res_name}{res_id}')\n",
        "                        cdr_res_ids.append(res_id)\n",
        "                    all_cdr_res_ids[i] = cdr_res_ids\n",
        "                    print(f'CDR{i}: {",".join(cdr_residues)}')\n",
        "                else:\n",
        "                    print(f'CDR{i}: Could not map sequence {cdr_seq} to the original structure.')\n",
        "            else:\n",
        "                print(f'CDR{i}: Not found.')\n",
        "\n",
        "        # Generate REMARKs and append to PDB\n",
        "        remark_lines = []\n",
        "        for cdr_num, res_ids in all_cdr_res_ids.items():\n",
        "            for res_id in res_ids:\n",
        "                remark_lines.append(f"REMARK PDBinfo-LABEL: {res_id:>4} H{cdr_num}\n")\n",
        "\n",
        "        modified_pdb_content = nanobody_pdb_content\n",
        "        if not modified_pdb_content.endswith('\n'):\n",
        "            modified_pdb_content += '\n'\n",
        "        modified_pdb_content += \"\".join(remark_lines)\n",
        "        modified_pdb_content += \"END\n"\n",
        "\n",
        "        modified_pdb_filename = f"{os.path.splitext(nanobody_pdb_name)[0]}_with_CDRs.pdb"\n",
        "        with open(modified_pdb_filename, 'w') as f:\n",
        "            f.write(modified_pdb_content)\n",
        "        print(f"Saved PDB with CDR remarks to {modified_pdb_filename}")\n",
        "        files.download(modified_pdb_filename)\n",
        "    else:\n",
        "        print('CDR prediction output file not found.')"
      ],
      "metadata": {
        "id": "eAsP32ZTUQl3"
      },
      "execution_count": null,
      "outputs": []
    },
    {
      "cell_type": "code",
      "metadata": {
        "id": "annotations-download"
      },
      "source": [
        "from google.colab import files\n",
        "import pandas as pd\n",
        "\n",
        "annotations_content = ''\n",
        "\n",
        "# Patches from Quilt\n",
        "if 'patch_residues_text' in locals():\n",
        "    annotations_content += 'Quilt Patches:\n'\n",
        "    for i in range(3):\n",
        "        text = patch_residues_text[i].strip()\n",
        "        if text:\n",
        "            line = f'Patch {i} residues: {text[:-1]}\n'\n",
        "        else:\n",
        "            line = f'Patch {i} residues: None\n'\n",
        "        annotations_content += line\n",
        "else:\n",
        "    annotations_content += 'Quilt patch information not available.\n'\n",
        "\n",
        "annotations_content += '\n'\n",
        "\n",
        "# CDRs from Nanocdr-X\n",
        "if 'all_cdr_res_ids' in locals() and 'residue_map' in locals():\n",
        "    annotations_content += 'Nanocdr-X CDRs:\n'\n",
        "    res_id_to_name = {info[0]: info[1] for info in residue_map}\n",
        "    for i in range(1, 4):\n",
        "        if i in all_cdr_res_ids:\n",
        "            cdr_res_ids = all_cdr_res_ids[i]\n",
        "            cdr_residues = []\n",
        "            for res_id in cdr_res_ids:\n",
        "                if res_id in res_id_to_name:\n",
        "                    cdr_residues.append(f'{res_id_to_name[res_id]}{res_id}')\n",
        "            annotations_content += f'CDR{i}: {",".join(cdr_residues)}\n'\n",
        "        else:\n",
        "            try:\n",
        "                results_df = pd.read_csv('nanobody_cdrs.csv')\n",
        "                cdr_seq = results_df[f'predicted_cdr{i}'][0]\n",
        "                if pd.isna(cdr_seq):\n",
        "                    annotations_content += f'CDR{i}: Not found.\n'\n",
        "                else:\n",
        "                    annotations_content += f'CDR{i}: Could not map sequence {cdr_seq} to the original structure.\n'\n",
        "            except (FileNotFoundError, KeyError):\n",
        "                 annotations_content += f'CDR{i}: Information not available.\n'\n",
        "else:\n",
        "    annotations_content += 'Nanocdr-X CDR information not available.\n'\n",
        "\n",
        "# Write to file and download\n",
        "with open('Step_1_annotations.txt', 'w') as f:\n",
        "    f.write(annotations_content)\n",
        "\n",
        "print('Downloading annotations file...')\n",
        "files.download('Step_1_annotations.txt')"
      ],
      "execution_count": null,
      "outputs": []
    },
    {
      "cell_type": "code",
      "metadata": {
        "id": "log-off"
      },
      "source": [
        "import os\n",
        "print('Logging off from the session.')\n",
        "os.kill(os.getpid(), 9)"
      ],
      "execution_count": null,
      "outputs": []
    }
  ]
}